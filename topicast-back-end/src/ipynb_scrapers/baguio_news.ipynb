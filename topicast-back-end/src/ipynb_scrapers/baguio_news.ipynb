{
 "cells": [
  {
   "cell_type": "code",
   "execution_count": 1,
   "metadata": {},
   "outputs": [],
   "source": [
    "from selenium import webdriver\n",
    "from selenium.webdriver.common.by import By\n",
    "import pandas as pd\n",
    "from selenium.common.exceptions import NoSuchElementException\n",
    "from datetime import datetime\n",
    "from queue import Queue\n",
    "import json\n",
    "\n",
    "import requests\n",
    "from bs4 import BeautifulSoup"
   ]
  },
  {
   "cell_type": "code",
   "execution_count": 12,
   "metadata": {},
   "outputs": [],
   "source": [
    "def scrape_article(slug, user_input_date):\n",
    "    post = {'slug': str(slug)}\n",
    "    url = \"https://new.baguio.gov.ph/api/news/article\"\n",
    "    headers = {\n",
    "        \"authority\": \"new.baguio.gov.ph\",\n",
    "        \"method\": \"POST\",\n",
    "        \"path\": \"/api/news/article\",\n",
    "        \"scheme\": \"https\",\n",
    "        \"accept\": \"application/json, text/plain, */*\",\n",
    "        \"accept-encoding\": \"gzip, deflate, br\",\n",
    "        \"accept-language\": \"en-US,en;q=0.5\",\n",
    "        \"authorization\": \"Bearer null\",\n",
    "        \"content-length\": \"84\",\n",
    "        \"content-type\": \"application/json\",\n",
    "        \"origin\": \"https://new.baguio.gov.ph\",\n",
    "        \"referer\": f\"https://new.baguio.gov.ph/news/{str(slug)}\",\n",
    "        \"sec-ch-ua\": '\"Brave\";v=\"113\", \"Chromium\";v=\"113\", \"Not-A.Brand\";v=\"24\"',\n",
    "        \"sec-ch-ua-mobile\": \"?0\",\n",
    "        \"sec-ch-ua-platform\": '\"Windows\"',\n",
    "        \"sec-fetch-dest\": \"empty\",\n",
    "        \"sec-fetch-mode\": \"cors\",\n",
    "        \"sec-fetch-site\": \"same-origin\",\n",
    "        \"sec-gpc\": \"1\",\n",
    "        \"user-agent\": \"Mozilla/5.0 (Windows NT 10.0; Win64; x64) AppleWebKit/537.36 (KHTML, like Gecko) Chrome/113.0.0.0 Safari/537.36\"\n",
    "    }\n",
    "    \n",
    "    response = requests.post(url, json=post, headers=headers)\n",
    "    \n",
    "    title = ''\n",
    "    date = ''\n",
    "    content =''\n",
    "    \n",
    "    try:\n",
    "        if response.status_code == 200:\n",
    "            data = json.loads(response.text)\n",
    "            for item in data[\"data\"]:\n",
    "                title = item['title']\n",
    "                date = user_input_date\n",
    "                content = item['body']\n",
    "        else:\n",
    "            print(\"Failed to fetch data\")\n",
    "    except NoSuchElementException:\n",
    "        pass\n",
    "    \n",
    "    if len(title) == 0 or len(date) == 0  or len(content) == 0 :\n",
    "        return ['empty', 'empty', 'empty']\n",
    "    else:\n",
    "        return [title, date, content]"
   ]
  },
  {
   "cell_type": "code",
   "execution_count": 18,
   "metadata": {},
   "outputs": [],
   "source": [
    "def bn_navigate_scrape_website(user_input_date):\n",
    "    user_input_date = str(user_input_date)\n",
    "    headers = {'user-agent' : 'Mozilla/5.0 (Windows NT 10.0; Win64; x64) AppleWebKit/537.36 (KHTML, like Gecko) Chrome/113.0.0.0 Safari/537.36'}\n",
    "    url = f'https://new.baguio.gov.ph/api/news/search?page=1&office=0&keyword=&from={user_input_date}&to={user_input_date}&admin=undefined&barangay=undefined&public=true'\n",
    "\n",
    "    response = requests.get(url)\n",
    "    links = []\n",
    "\n",
    "    if response.status_code == 200:\n",
    "        data = json.loads(response.text)\n",
    "        for item in data[\"data\"]:\n",
    "            links.append(item[\"slug\"])\n",
    "    else:\n",
    "        print(\"Failed to fetch data\")\n",
    "\n",
    "    if links:\n",
    "        bn_news = {'title': [], 'date': [], 'content': []}\n",
    "\n",
    "        for url in links:\n",
    "            bn_news_list = scrape_article(url, user_input_date)\n",
    "            bn_news['title'].append(bn_news_list[0])\n",
    "            bn_news['date'].append(bn_news_list[1])\n",
    "            bn_news['content'].append(bn_news_list[2])\n",
    "\n",
    "        if bn_news:\n",
    "            return bn_news\n",
    "        else:\n",
    "            return ['No data']\n",
    "\n",
    "    else:\n",
    "        return ['none']"
   ]
  },
  {
   "cell_type": "code",
   "execution_count": 19,
   "metadata": {},
   "outputs": [],
   "source": [
    "test = bn_navigate_scrape_website('2023-04-24')"
   ]
  },
  {
   "cell_type": "code",
   "execution_count": 21,
   "metadata": {},
   "outputs": [
    {
     "data": {
      "text/plain": [
       "{'title': ['BAGUIO CITY STRESSES YOUTH PARTICIPATION IN STREETS FOR CHILDREN ROADSHOP',\n",
       "  'BAGUIO’s SABSABONG TI MAYO LEVELS UP WITH FLORAL GASTRO FIESTA',\n",
       "  'ACTING ON SUSTAINABLE TOURISM FOR THE ENVIRONMENT'],\n",
       " 'date': ['2023-04-24', '2023-04-24', '2023-04-24'],\n",
       " 'content': ['<p>The United Nations Development Programme (UNDP) and the City Government of Baguio through the City Planning, Development and Sustainability Office (CPDSO) and the City Engineering Office (CEO) conducted a Streets for Children Roadshop in Baguio City National High School - Hillside Annex aiming to promote livable communities from children’s perspective, April 19. </p><p>Sustainability and Development Officer Arch. Donna Tabangin said that one of the problem areas of the city is the streets and thus the roadshop aims to include the children and youth as codesigners of streets in the city. </p><p>“The roads, for example, are public spaces which are shared by everyone. And, these are used by kids and young people, so they should be part of this design and decision-making activity,” stressed Architect Tabangin.</p><p>Baguio City Mayor Benjamin Magalong emphasized that “it is crucial that we listen to the voices and ideas of the youth when it comes to making important decisions that will affect the community of the years to come.”</p><p>United Nations Development Programme (UNDP) Capacity Development Officer Elijah Go Tian and Research Associate JB Valderama were also present in the program to conduct the Streets for Children Lecture and Workshop.</p><p>UNDP Capacity Development Officer Elijah Go Tian mentioned that “the children are the future.”</p><p>“It’s actually amazing to see what they (children) identify and what they see as the problem because it’s something that us adults forget. They see the smallest and simplest things which make the most sense,” said Tian, “they would show us how to create an equitable city, because if you create a city for kids, you create a city for all.”</p><p>Architect Tabangin mentioned that the Streets for Children roadshop is part of the Safe and Sound Cities program aiming to teach leadership to the youth so they can also become co-decision makers in anything that affects their spaces.</p><p>Furthermore, Architect Tabangin said that the Streets for Children Roadshop is only one of the many things they plan to do in the city. - By Patrick Balanon</p>',\n",
       "  '<p><span style=\"color: rgb(5, 5, 5);\">This year’s Panagbenga flower festival may be over but here comes the celebration of Flowers of May called the Sabsabong ti Mayo 2023 featuring a floral gastro fiesta.</span></p><p><br></p><p><span style=\"color: rgb(5, 5, 5);\">The city government of Baguio through the City Tourism Office is exerting all efforts to level up the third year of Sabsabong ti Mayo with a promise of experiencing the artistry of floral sculptures, indulging in local cuisine, and immersing in the vibrant cultural performances scheduled at the Rose Garden, Burnham Park.</span></p><p><br></p><p><span style=\"color: rgb(5, 5, 5);\">Mayor Benjamin B. Magalong issued Executive Order No. 47, series of 2023, declaring the period from May 6 to June 4 as the Sabsabong ti Mayo 2023: Floral Gastro Fiesta.</span></p><p><br></p><p><span style=\"color: rgb(5, 5, 5);\">Soft-opening will be on May 5, 2023 while the opening program and judging of entries for the Floral Sculpture Competition on May 6 at 2PM followed by an acoustic and folk concert by 3PM.</span></p><p><br></p><p><span style=\"color: rgb(5, 5, 5);\">The Floral Gastro Fiesta – Food Truck Caravan will be slated from May 6 to June 4, 2023 on the same venue.</span></p><p><br></p><p><span style=\"color: rgb(5, 5, 5);\">Other activities scheduled to take place the whole day at the Rose Garden includes a Globe Day on May 13; a cosplay competition on May 20 and the Cor De Mayo (Cordilleran May Festival) by the University of the Cordilleras on May 27.</span></p><p><br></p><p><span style=\"color: rgb(5, 5, 5);\">The event is in line with the declaration of Baguio City as a United Nations Educational, Scientific and Cultural Organization (UNESCO) Creative City in the field of crafts and folk arts since 2017.</span></p><p><br></p><p><span style=\"color: rgb(5, 5, 5);\">Baguio City’s UNESCO designation made the Summer Capital an illustrious member of the UNESCO Creative Cities Network (UCCN), which was a historic first in the Philippines. – JMPS</span></p>',\n",
       "  '<p>The city of Baguio is filled with various natural attractions with its vast wide plains, high mountains, and cool temperature as it remains to be one of the best destinations to visit in the Philippines all year round. From the ground to the roots to the branches and leaves, we breathe the oxygen being released by the trees, with a mixture of flora and fauna which is not the only factor that entices visitors to keep coming in the city, but also because of the culture, arts, and sustainable practices. It gives the visitors a sense of respect for how the locals stay true to their values and city ordinances that are being implemented in the city. The city of Baguio has always been a safe haven for natural attractions and beautiful sceneries that have been standing even before it was sighted by the Spaniards when they first arrived in the highlands. The same goes with the Americans who sought the city as a rest and rehabilitation area, where they could relax, enjoy their leisure time, and escape the heat of the lowlands. After World War II, even after the city was occupied by the Japanese, some attractions remained standing up to this day which goes to show the significance of sustainable tourism in the city. We are to protect these reminders, in hopes to prolong the significance of our history but most importantly, our environment.</p><p>With sustainability being practiced in various countries, the City of Baguio also started to implement sustainable practices, as citizens, and being able to adapt and execute such practices is a huge step in our contribution to the preservation of our environment. Sustainability can be achieved through the small things we do in everyday life. With the combined help of both locals and tourists, the city is able to unite in helping each other create a green livelihood for all. Small things such as the usage of eco or paper bags over plastic ones, turning off power outlets or electrical appliances when not in use, or even saving water are among the common practices in living in a sustainable environment which are inlined with the Sustainable Development Goals #12, #6, and #14 or the Responsible Consumption and Production, Clean Water and Sanitation, and Life Below Water respectively. SDG 12 aims to promote the responsible and efficient use of our natural resources as well as reduce waste generation especially plastic through reduction, reuse and recycling. In connection with this, SDG 6 and 14 aims to improve water quality and protect marine life by not dumping hazardous chemicals into waterways and reducing pollution, most importantly plastic that mostly ends up in the ocean causing damage to the marine ecosystem.</p><p>Sustainable Tourism helps maintain and prolong the beauty of a certain area, thus allowing the future generations to enjoy the beauty of our surroundings. With Baguio being one of the fastest developing cities in the Philippines, one could wonder how the city maintains its greenery and natural beauty, and well, this is possible through acting on simple sustainable practices, a reminder that a little goes a long way and with camaraderie, anything is achievable. </p><p>Contributors: Edith Jane Chloe T. Elegado, Jubal Kurt C. Salbino, Lyra Megan C. Marrero</p>']}"
      ]
     },
     "execution_count": 21,
     "metadata": {},
     "output_type": "execute_result"
    }
   ],
   "source": [
    "test"
   ]
  }
 ],
 "metadata": {
  "kernelspec": {
   "display_name": ".venv",
   "language": "python",
   "name": "python3"
  },
  "language_info": {
   "codemirror_mode": {
    "name": "ipython",
    "version": 3
   },
   "file_extension": ".py",
   "mimetype": "text/x-python",
   "name": "python",
   "nbconvert_exporter": "python",
   "pygments_lexer": "ipython3",
   "version": "3.9.13"
  },
  "orig_nbformat": 4
 },
 "nbformat": 4,
 "nbformat_minor": 2
}
