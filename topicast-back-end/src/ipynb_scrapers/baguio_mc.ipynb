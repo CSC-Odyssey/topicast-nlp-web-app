{
 "cells": [
  {
   "cell_type": "code",
   "execution_count": 1,
   "metadata": {},
   "outputs": [],
   "source": [
    "from selenium import webdriver\n",
    "from selenium.webdriver.common.by import By\n",
    "import pandas as pd\n",
    "from selenium.common.exceptions import NoSuchElementException\n",
    "from datetime import datetime\n",
    "from queue import Queue\n",
    "\n",
    "import requests\n",
    "from bs4 import BeautifulSoup"
   ]
  },
  {
   "cell_type": "code",
   "execution_count": 10,
   "metadata": {},
   "outputs": [],
   "source": [
    "def scrape_article(url):\n",
    "    response = requests.get(str(url))\n",
    "    soup = BeautifulSoup(response.content, 'html.parser')\n",
    "\n",
    "    title = ''\n",
    "    date = ''\n",
    "    content =''\n",
    "\n",
    "    try:\n",
    "        title = soup.find('h1', attrs={'class': 'entry-title'}).text.strip()\n",
    "        date = soup.find('span', attrs={'class': 'item-metadata posts-date'}).text.strip()\n",
    "        try:\n",
    "            content_raw = soup.find('div', attrs={'class': 'entry-content read-details'}).text.strip()\n",
    "            delimiter = 'Continue Reading'\n",
    "            content = content_raw.split(delimiter)[0]\n",
    "        except NoSuchElementException:\n",
    "            pass\n",
    "    except NoSuchElementException:\n",
    "        pass\n",
    "\n",
    "    if len(title) == 0 or len(date) == 0  or len(content) == 0 :\n",
    "        return ['empty', 'empty', 'empty']\n",
    "    else:\n",
    "        return [title, date, content]"
   ]
  },
  {
   "cell_type": "code",
   "execution_count": 22,
   "metadata": {},
   "outputs": [],
   "source": [
    "def mc_navigate_scrape_website(user_input_date):\n",
    "    user_input_date = str(user_input_date)\n",
    "\n",
    "    url = 'https://www.baguiomidlandcourier.com.ph/category/city/'\n",
    "    counter = 0\n",
    "\n",
    "    links = []\n",
    "\n",
    "    while (url is not None) and (counter != 10):\n",
    "        try:\n",
    "            response = requests.get(url)\n",
    "            soup = BeautifulSoup(response.content, 'html.parser')\n",
    "            main_container = soup.find('div', attrs={'id': 'aft-archive-wrapper'})\n",
    "\n",
    "            for news_div in soup.find_all('div', attrs={'class' : 'col-66 float-l pad read-details color-tp-pad'}):\n",
    "                news_div_date = news_div.find('span', attrs={'class' : 'item-metadata posts-date'}).text.strip()\n",
    "                news_div_date_formatted = datetime.strptime(news_div_date, '%B %d, %Y').strftime('%Y-%m-%d')\n",
    "\n",
    "                if user_input_date == news_div_date_formatted:\n",
    "                    news_div_title = news_div.find('div', attrs={'class' : 'read-title'})\n",
    "                    news_div_h4 = news_div_title.find('h4')\n",
    "                    news_div_href = news_div_h4.find('a').get('href')\n",
    "                    links.append(news_div_href)\n",
    "\n",
    "            next_page_url = soup.find('a', attrs={'class' : 'next page-numbers'}).get('href')\n",
    "            if next_page_url is not None:\n",
    "                url = str(next_page_url)\n",
    "            else:\n",
    "                url = None\n",
    "\n",
    "            counter += 1\n",
    "        except:\n",
    "            pass\n",
    "\n",
    "    bmc_news = {'title': [], 'date': [], 'content': []}\n",
    "    for url in links:\n",
    "        bmc_news_list = scrape_article(url)\n",
    "        bmc_news['title'].append(bmc_news_list[0])\n",
    "        bmc_news['date'].append(user_input_date)\n",
    "        bmc_news['content'].append(bmc_news_list[2])\n",
    "\n",
    "    if bmc_news:\n",
    "        return bmc_news\n",
    "    else:\n",
    "        return ['No data']"
   ]
  },
  {
   "cell_type": "code",
   "execution_count": 23,
   "metadata": {},
   "outputs": [],
   "source": [
    "test = mc_navigate_scrape_website('2023-04-30')"
   ]
  }
 ],
 "metadata": {
  "kernelspec": {
   "display_name": ".venv",
   "language": "python",
   "name": "python3"
  },
  "language_info": {
   "codemirror_mode": {
    "name": "ipython",
    "version": 3
   },
   "file_extension": ".py",
   "mimetype": "text/x-python",
   "name": "python",
   "nbconvert_exporter": "python",
   "pygments_lexer": "ipython3",
   "version": "3.9.13"
  },
  "orig_nbformat": 4
 },
 "nbformat": 4,
 "nbformat_minor": 2
}
